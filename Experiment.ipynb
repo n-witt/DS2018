{
 "cells": [
  {
   "cell_type": "markdown",
   "metadata": {},
   "source": [
    "# Load previous results"
   ]
  },
  {
   "cell_type": "code",
   "execution_count": 1,
   "metadata": {},
   "outputs": [],
   "source": [
    "import pickle\n",
    "with open(\"results.pkl\", \"rb\") as fh:\n",
    "    final_results = pickle.load(fh)"
   ]
  },
  {
   "cell_type": "markdown",
   "metadata": {},
   "source": [
    "# Loading the Corpus"
   ]
  },
  {
   "cell_type": "code",
   "execution_count": 2,
   "metadata": {
    "collapsed": true
   },
   "outputs": [],
   "source": [
    "from corpora import hulth, scopus, semeval, kp20k\n",
    "from importlib import reload"
   ]
  },
  {
   "cell_type": "code",
   "execution_count": 3,
   "metadata": {},
   "outputs": [],
   "source": [
    "corpus_name = \"semeval\""
   ]
  },
  {
   "cell_type": "code",
   "execution_count": 4,
   "metadata": {},
   "outputs": [],
   "source": [
    "if corpus_name == \"scopus\":\n",
    "    df = scopus.load()\n",
    "elif corpus_name == \"hulth\":\n",
    "    df = hulth.load()\n",
    "elif corpus_name == \"semeval\":\n",
    "    df = semeval.load()\n",
    "elif corpus_name == \"kp20k\":\n",
    "    df = kp20k.load()\n",
    "    df = df.reset_index()\n",
    "    df = df[:100000]\n",
    "else:\n",
    "    raise Exception(\"no corpus loaded\")"
   ]
  },
  {
   "cell_type": "markdown",
   "metadata": {},
   "source": [
    "# Removing documents with no Ground Truth keywords that are also in the text"
   ]
  },
  {
   "cell_type": "code",
   "execution_count": 5,
   "metadata": {},
   "outputs": [],
   "source": [
    "def kwds_in_text(kwds, text):\n",
    "    return [kw for kw in kwds if kw.lower() in text.lower()]\n",
    "\n",
    "actual_kwds = [[kw.lower() for kw in r[\"keywords\"].split(\"; \")] for idx, r in df.iterrows()]\n",
    "has_kwds_despite_kw_removal = [len(kwds_in_text(kwds, text)) > 0 for kwds, text in zip(actual_kwds, df[\"abstract\"])]\n",
    "df = df[has_kwds_despite_kw_removal]"
   ]
  },
  {
   "cell_type": "markdown",
   "metadata": {},
   "source": [
    "# TFIDF keywords"
   ]
  },
  {
   "cell_type": "code",
   "execution_count": 6,
   "metadata": {
    "collapsed": true
   },
   "outputs": [],
   "source": [
    "from tfidf_KW_extraction import Tfidf_Pos_keywords\n",
    "tfidf = Tfidf_Pos_keywords(df[\"abstract\"])"
   ]
  },
  {
   "cell_type": "markdown",
   "metadata": {},
   "source": [
    "# Fuzzy Matching"
   ]
  },
  {
   "cell_type": "code",
   "execution_count": 7,
   "metadata": {},
   "outputs": [],
   "source": [
    "from fuzzywuzzy import fuzz\n",
    "import numpy as np\n",
    "\n",
    "def issimilar(a, b, t=80):\n",
    "    '''\n",
    "    Returns `True` if the strings a and b are sufficiently similar and\n",
    "    `False` otherwise.\n",
    "    '''\n",
    "    if fuzz.token_sort_ratio(a, b) > t:\n",
    "        return True\n",
    "    else:\n",
    "        return False\n",
    "    \n",
    "def fuzzy_is_in(candidate, kwds, t=80):\n",
    "    return np.any([issimilar(candidate, kw, t) for kw in kwds])"
   ]
  },
  {
   "cell_type": "markdown",
   "metadata": {},
   "source": [
    "# Keyword Extraction Tools"
   ]
  },
  {
   "cell_type": "code",
   "execution_count": 8,
   "metadata": {},
   "outputs": [],
   "source": [
    "fh = open(\"corpora/stoplist.txt\")\n",
    "stopwords = fh.readlines()\n",
    "fh.close()\n",
    "stopwords = \" \".join(stopwords).split(\"\\n \")"
   ]
  },
  {
   "cell_type": "code",
   "execution_count": 9,
   "metadata": {
    "collapsed": true
   },
   "outputs": [],
   "source": [
    "from gensim.summarization import keywords as textrank_keywords\n",
    "from jgtextrank import keywords_extraction as textrank_keywords_jg\n",
    "from rake_nltk import Rake\n",
    "from rake_nltk import Metric\n",
    "from itertools import islice\n",
    "\n",
    "def textrank_gensim(text, num_kwds=None, scores=False):\n",
    "    try:\n",
    "        results = textrank_keywords(text, ratio=1., scores=True)\n",
    "    except ZeroDivisionError:\n",
    "        return []\n",
    "    \n",
    "    if scores == False:\n",
    "        results = [kw for kw, scores in results]\n",
    "    return list(islice(results, num_kwds))\n",
    "\n",
    "def textrank(text, num_kwds=None, scores=False):\n",
    "    try:\n",
    "        results, _ = textrank_keywords_jg(text, window=2, directed=False, stop_words=stopwords, workers=1)\n",
    "    except KeyError:\n",
    "        text = ''.join([i if ord(i) < 128 else ' ' for i in text]) # remove non-ascii characters\n",
    "        results, _ = textrank_keywords_jg(text, window=2, directed=False, stop_words=stopwords, workers=1)\n",
    "        \n",
    "    if scores == False:\n",
    "        results = [kw for kw, scores in results]\n",
    "    return list(islice(results, num_kwds))\n",
    "\n",
    "def rake(text, num_kwds=None, scores=False):\n",
    "    r = Rake(stopwords=stopwords, punctuations=\". , ? ! - : ; \\\" \\' ( ) [ ]\".split(), language='english')\n",
    "    r.extract_keywords_from_text(text)\n",
    "    if scores == True:\n",
    "        results = r.get_ranked_phrases_with_scores()\n",
    "        results = [(kw, score) for score, kw in results]\n",
    "    else:\n",
    "        results = r.get_ranked_phrases()\n",
    "    return list(islice(results, num_kwds))"
   ]
  },
  {
   "cell_type": "markdown",
   "metadata": {},
   "source": [
    "# Function for calculating precision, recall and F1"
   ]
  },
  {
   "cell_type": "code",
   "execution_count": 10,
   "metadata": {},
   "outputs": [],
   "source": [
    "from sklearn.metrics import precision_score, recall_score, f1_score\n",
    "import pandas as pd\n",
    "\n",
    "def kwd_metrics(extracted=None, actual=None, fuzzy=True, t=80):\n",
    "    extracted = list(map(lambda s: s.lower(), extracted))\n",
    "    actual = list(map(lambda s: s.lower(), actual))\n",
    "\n",
    "    assert t >=0 and t <=100, \"t must be 0 <= t <= 100\"\n",
    "\n",
    "    if t==100: # not fuzzy\n",
    "        all_kwds = set(actual).union(extracted)\n",
    "        y_true = [kw in actual for kw in all_kwds]\n",
    "        y_pred = [kw in extracted for kw in all_kwds]\n",
    "    else: # go fuzzy\n",
    "        # get rid of extracted kwds that are similar to kwds in actual\n",
    "        extracted_no_dup = [e for e in extracted if not fuzzy_is_in(e, actual, t=t)]\n",
    "        all_kwds = set(actual).union(extracted_no_dup)\n",
    "        y_true = [fuzzy_is_in(kw, actual, t=t) for kw in all_kwds]\n",
    "        y_pred = [fuzzy_is_in(kw, extracted, t=t) for kw in all_kwds]\n",
    "    \n",
    "    precision = precision_score(y_true, y_pred, average=\"binary\")\n",
    "    recall = recall_score(y_true, y_pred, average=\"binary\")\n",
    "    f1 = f1_score(y_true, y_pred, average=\"binary\")\n",
    "        \n",
    "    return {\n",
    "        'precision': precision, \n",
    "        'recall': recall,\n",
    "        'f1': f1\n",
    "    }"
   ]
  },
  {
   "cell_type": "markdown",
   "metadata": {},
   "source": [
    "# Benchmark"
   ]
  },
  {
   "cell_type": "code",
   "execution_count": 11,
   "metadata": {
    "collapsed": true
   },
   "outputs": [],
   "source": [
    "from tqdm import tqdm\n",
    "from collections import defaultdict\n",
    "from multiprocessing import Pool, cpu_count\n",
    "from concurrent.futures import ProcessPoolExecutor\n",
    "from functools import partial\n",
    "\n",
    "def kw_extraction(text_iter, extractor, num_kwds=None, multi_threaded=False):\n",
    "    my_extractor = partial(extractor, num_kwds=num_kwds)\n",
    "    if multi_threaded:\n",
    "        with ProcessPoolExecutor(max_workers=8) as p:\n",
    "            kwds = p.map(my_extractor, text_iter)\n",
    "    else:\n",
    "        kwds = map(my_extractor, text_iter)\n",
    "    return kwds\n",
    "\n",
    "def assess_extractor(extractor, df, num_kwds=None, t=80, kw_removal=True):\n",
    "    \"\"\"\n",
    "    \"\"\"\n",
    "    text_iter = [r[\"abstract\"] for idx, r in df.iterrows()]\n",
    "    \n",
    "    extr_kwds = kw_extraction(text_iter, extractor, num_kwds=num_kwds)\n",
    "    \n",
    "    actual_kwds = [[kw.lower() for kw in r[\"keywords\"].split(\"; \")] for idx, r in df.iterrows()]\n",
    "    if kw_removal:\n",
    "        actual_kwds = [kwds_in_text(kwds, text) for kwds, text in zip(actual_kwds, df[\"abstract\"])]\n",
    "        \n",
    "    scores = pd.DataFrame(columns=('precision', 'recall', 'f1'))\n",
    "    for idx, a, e in zip(df.index, actual_kwds, extr_kwds):\n",
    "        scores.loc[idx] = kwd_metrics(extracted=e, actual=a, t=t)\n",
    "    return scores"
   ]
  },
  {
   "cell_type": "markdown",
   "metadata": {},
   "source": [
    "# Train the Tfidf Vectorizer"
   ]
  },
  {
   "cell_type": "code",
   "execution_count": 12,
   "metadata": {
    "collapsed": true
   },
   "outputs": [],
   "source": [
    "from sklearn.feature_extraction.text import TfidfVectorizer\n",
    "\n",
    "vectorizer = TfidfVectorizer(stop_words=\"english\", smooth_idf=True).fit(df[\"abstract\"])"
   ]
  },
  {
   "cell_type": "code",
   "execution_count": 13,
   "metadata": {
    "collapsed": true
   },
   "outputs": [],
   "source": [
    "import numpy as np\n",
    "def tfidf_scores(document, vectorizer):\n",
    "    '''\n",
    "    returns the raw tfidf scores of document passed.\n",
    "    '''\n",
    "    transformed_doc = vectorizer.transform([document]).toarray()[0]\n",
    "    tfidf_scores = {}\n",
    "\n",
    "    for w in document.split():\n",
    "        try:\n",
    "            word_id = vectorizer.vocabulary_[w]\n",
    "            tfidf_scores[w] = transformed_doc[word_id]\n",
    "        except KeyError:\n",
    "            pass\n",
    "    return tfidf_scores\n",
    "\n",
    "def weight_keywords(kwds, scores):\n",
    "    '''\n",
    "    weights the keywords in `kwds` with the tfidf scores provided\n",
    "    in `scores`. the returned list of tuples is sorted. the highest\n",
    "    scoring keyword comes first.\n",
    "    '''\n",
    "    kwd_scores = []\n",
    "    for kwd in kwds:\n",
    "        tokens = kwd.split()\n",
    "        cum_score = 0\n",
    "        token_count = 0\n",
    "        for token in tokens:\n",
    "            if token in scores:\n",
    "                cum_score += scores[token]\n",
    "                token_count += 1\n",
    "        if token_count > 0:\n",
    "            kwd_scores.append(cum_score * (1 - .1 * token_count))\n",
    "        else:\n",
    "            kwd_scores.append(0)        \n",
    "            \n",
    "    return sorted([(kwd, score) for kwd, score in zip(kwds, kwd_scores)], \n",
    "        key=lambda x: x[1], reverse=True)\n",
    "\n",
    "def rank_keywords(document, extr=None, vectorizer=None, num_kwds=None, scores=False):\n",
    "    '''\n",
    "    produces a sorted list of keywords produced by `extr` on the\n",
    "    document with index `idx`.\n",
    "    '''\n",
    "    kwds = extr(document, num_kwds=None, scores=False)\n",
    "    results = tfidf_scores(document, vectorizer)\n",
    "    results = weight_keywords(kwds, results)\n",
    "    if scores == False:\n",
    "        results = [kw for kw, scores in results]    \n",
    "    return list(islice(results, num_kwds))"
   ]
  },
  {
   "cell_type": "code",
   "execution_count": 14,
   "metadata": {
    "collapsed": true
   },
   "outputs": [],
   "source": [
    "def tfidfify(extr, vectorizer):\n",
    "    \"\"\"\n",
    "    Changes the ranking of a keyword extractor to a tfidf-based one.\n",
    "    \"\"\"\n",
    "    return partial(rank_keywords, extr=extr, vectorizer=vectorizer) "
   ]
  },
  {
   "cell_type": "code",
   "execution_count": 15,
   "metadata": {
    "collapsed": true
   },
   "outputs": [],
   "source": [
    "tfidfed_rake = tfidfify(rake, vectorizer)\n",
    "tfidfed_textrank = tfidfify(textrank, vectorizer)"
   ]
  },
  {
   "cell_type": "markdown",
   "metadata": {},
   "source": [
    "# Frankenrake's Textrank"
   ]
  },
  {
   "cell_type": "code",
   "execution_count": 16,
   "metadata": {
    "collapsed": true
   },
   "outputs": [],
   "source": [
    "from itertools import chain\n",
    "\n",
    "def tfidfed_frankenrake(text, num_kwds=None, scores=False):\n",
    "    def frankenrake(text, num_kwds=None, scores=False):\n",
    "        kwds = list({kw for kw in chain(rake(text), textrank(text))})\n",
    "        return kwds\n",
    "\n",
    "    tfidfed = tfidfify(frankenrake, vectorizer)\n",
    "    return list(islice(tfidfed(text, scores=scores), num_kwds))"
   ]
  },
  {
   "cell_type": "markdown",
   "metadata": {},
   "source": [
    "# Run Evaluation"
   ]
  },
  {
   "cell_type": "markdown",
   "metadata": {},
   "source": [
    "### One job at a time"
   ]
  },
  {
   "cell_type": "code",
   "execution_count": 17,
   "metadata": {},
   "outputs": [
    {
     "data": {
      "text/plain": [
       "'\\nfrom collections import defaultdict\\nkw_threshholds = range(1, 21, 1)\\n\\nscores = {i: {\"textrank\": None, \"rake\": None, \"tfidfed_textrank\": None, \"tfidfed_rake\": None} \\n    for i in kw_threshholds}\\n\\nfor i in tqdm(kw_threshholds):\\n    for extr_name, extr in zip((\"textrank\", \"rake\", \"tfidfed_textrank\", \"tfidfed_rake\", \"frankenrake\", \"tfidf\"),             (textrank, rake, tfidfed_textrank, tfidfed_rake, tfidfed_frankenrake, tfidf)):\\n        scores[i][extr_name] = assess_extractor(extr, df, num_kwds=i, t=100, kw_removal=True)\\n'"
      ]
     },
     "execution_count": 17,
     "metadata": {},
     "output_type": "execute_result"
    }
   ],
   "source": [
    "\"\"\"\n",
    "from collections import defaultdict\n",
    "kw_threshholds = range(1, 21, 1)\n",
    "\n",
    "scores = {i: {\"textrank\": None, \"rake\": None, \"tfidfed_textrank\": None, \"tfidfed_rake\": None} \n",
    "    for i in kw_threshholds}\n",
    "\n",
    "for i in tqdm(kw_threshholds):\n",
    "    for extr_name, extr in zip((\"textrank\", \"rake\", \"tfidfed_textrank\", \"tfidfed_rake\", \"frankenrake\", \"tfidf\"), \\\n",
    "            (textrank, rake, tfidfed_textrank, tfidfed_rake, tfidfed_frankenrake, tfidf)):\n",
    "        scores[i][extr_name] = assess_extractor(extr, df, num_kwds=i, t=100, kw_removal=True)\n",
    "\"\"\""
   ]
  },
  {
   "cell_type": "markdown",
   "metadata": {},
   "source": [
    "# multiple jobs at a time"
   ]
  },
  {
   "cell_type": "code",
   "execution_count": 18,
   "metadata": {},
   "outputs": [],
   "source": [
    "def partial_assess_extractor(i):\n",
    "    scores = {\"textrank\": None, \"rake\": None, \"tfidfed_textrank\": None, \"tfidfed_rake\": None} \n",
    "\n",
    "    for extr_name, extr in tqdm(zip((\"textrank\", \"rake\", \"tfidfed_textrank\", \"tfidfed_rake\", \"frankenrake\", \"tfidf\"), \\\n",
    "            (textrank, rake, tfidfed_textrank, tfidfed_rake, tfidfed_frankenrake, tfidf))):\n",
    "        scores[extr_name] = assess_extractor(extr, df, num_kwds=i, t=100, kw_removal=True)\n",
    "    return (i, scores)"
   ]
  },
  {
   "cell_type": "code",
   "execution_count": 19,
   "metadata": {},
   "outputs": [
    {
     "name": "stderr",
     "output_type": "stream",
     "text": [
      "6it [05:03, 50.54s/it]\n",
      "6it [05:03, 50.58s/it]\n",
      "6it [05:03, 50.59s/it]\n",
      "6it [05:03, 50.60s/it]\n",
      "6it [05:03, 50.61s/it]\n",
      "6it [05:03, 50.64s/it]\n",
      "6it [05:04, 50.68s/it]\n",
      "6it [05:04, 50.72s/it]\n",
      "6it [05:04, 50.75s/it]\n",
      "6it [05:04, 50.76s/it]\n",
      "6it [05:04, 50.75s/it]\n",
      "6it [05:04, 50.79s/it]\n",
      "6it [05:04, 50.80s/it]\n",
      "6it [05:04, 50.80s/it]\n",
      "6it [05:05, 50.87s/it]\n",
      "6it [05:05, 50.88s/it]\n",
      "6it [05:05, 50.88s/it]\n",
      "6it [05:05, 50.89s/it]\n",
      "6it [05:05, 50.92s/it]\n",
      "6it [05:05, 50.96s/it]\n"
     ]
    },
    {
     "name": "stdout",
     "output_type": "stream",
     "text": [
      "CPU times: user 182 ms, sys: 1.73 s, total: 1.92 s\n",
      "Wall time: 5min 6s\n"
     ]
    }
   ],
   "source": [
    "%%time\n",
    "from concurrent.futures import ProcessPoolExecutor\n",
    "\n",
    "with ProcessPoolExecutor(max_workers=32) as p:\n",
    "    results = p.map(partial_assess_extractor, range(1, 21, 1))\n",
    "results = list(results)"
   ]
  },
  {
   "cell_type": "code",
   "execution_count": 20,
   "metadata": {},
   "outputs": [],
   "source": [
    "kw_threshholds = range(1, 21, 1)\n",
    "scores = {i: {\"textrank\": None, \"rake\": None, \"tfidfed_textrank\": None, \"tfidfed_rake\": None} \n",
    "    for i in kw_threshholds}\n",
    "\n",
    "for r in results:\n",
    "    for k, v in r[1].items():\n",
    "        scores[r[0]][k] = v\n",
    "        \n",
    "final_results[corpus_name] = scores"
   ]
  },
  {
   "cell_type": "markdown",
   "metadata": {},
   "source": [
    "# multpile jobs end"
   ]
  },
  {
   "cell_type": "markdown",
   "metadata": {},
   "source": [
    "# Store results"
   ]
  },
  {
   "cell_type": "code",
   "execution_count": 21,
   "metadata": {},
   "outputs": [],
   "source": [
    "import pickle\n",
    "with open(\"results.pkl\", \"wb\") as fh:\n",
    "    pickle.dump(final_results, fh)"
   ]
  },
  {
   "cell_type": "code",
   "execution_count": 22,
   "metadata": {},
   "outputs": [],
   "source": [
    "from collections import namedtuple\n",
    "\n",
    "def get_data(algorithm, corpus):\n",
    "    Retrieval_scores = namedtuple(\"Retrieval_scores\", \"p r f a\".split())\n",
    "    scores = final_results[corpus]\n",
    "    \n",
    "    precision = [scores[i][algorithm][\"precision\"].mean() for i in kw_threshholds]\n",
    "    recall = [scores[i][algorithm][\"recall\"].mean() for i in kw_threshholds]\n",
    "    f1 = [scores[i][algorithm][\"f1\"].mean() for i in kw_threshholds]\n",
    "    return Retrieval_scores(precision, recall, f1, algorithm)\n",
    "\n",
    "X = get_data(\"tfidf\", \"scopus\")\n",
    "Y = get_data(\"rake\", \"scopus\")"
   ]
  },
  {
   "cell_type": "code",
   "execution_count": 23,
   "metadata": {},
   "outputs": [
    {
     "data": {
      "text/plain": [
       "<Figure size 1000x800 with 1 Axes>"
      ]
     },
     "metadata": {},
     "output_type": "display_data"
    }
   ],
   "source": [
    "import seaborn as sns\n",
    "import matplotlib.pyplot as plt\n",
    "from matplotlib.ticker import FormatStrFormatter\n",
    "\n",
    "plt.rcParams[\"font.family\"] = 'serif'\n",
    "\n",
    "colors = sns.color_palette(\"Set1\", 6)\n",
    "fig, ax = plt.subplots(figsize=(10, 8))\n",
    "\n",
    "ax.plot(kw_threshholds, X.p, ':v', c=colors[0], label=f\"$\\pi$ {X.a}\")\n",
    "ax.plot(kw_threshholds, X.r, ':D', c=colors[1], label=f\"$\\\\rho$ {X.a}\")\n",
    "ax.plot(kw_threshholds, X.f, ':d', c=colors[2], label=f\"F1 {X.a}\")\n",
    "\n",
    "ax.plot(kw_threshholds, Y.p, '-v', c=colors[0], alpha=.4, label=f\"$\\pi$ {Y.a}\")\n",
    "ax.plot(kw_threshholds, Y.r, '-D', c=colors[1], alpha=.4, label=f\"$\\\\rho$ {Y.a}\")\n",
    "ax.plot(kw_threshholds, Y.f, '-d', c=colors[2], alpha=.4, label=f\"F1 {Y.a}\")\n",
    "\n",
    "ax.set_ylim(0.0, .5)\n",
    "ax.set_xlabel('Number of Keyphrases', fontsize=16)\n",
    "ax.set_ylabel('Score', fontsize=16)\n",
    "\n",
    "ax.legend(fontsize=14)\n",
    "ax.tick_params(axis='x', labelsize=14)\n",
    "ax.tick_params(axis='y', labelsize=14)\n",
    "\n",
    "ax.yaxis.set_major_formatter(FormatStrFormatter('%.2f'))\n",
    "#ax.set_facecolor(\"white\")\n",
    "\n",
    "for spine in plt.gca().spines.values():\n",
    "    spine.set_visible(True)\n",
    "\n",
    "#plt.title(f\"{corpus_name} without Fuzzy Matching + KW Removal\", fontsize=18)\n",
    "\n",
    "plt.xticks(kw_threshholds)\n",
    "plt.show()"
   ]
  },
  {
   "cell_type": "markdown",
   "metadata": {},
   "source": [
    "# Enlightning Tools"
   ]
  },
  {
   "cell_type": "code",
   "execution_count": 24,
   "metadata": {},
   "outputs": [
    {
     "name": "stdout",
     "output_type": "stream",
     "text": [
      "ABSTRACT:\n",
      " We prove the uniqueness of the supersymmetric Salam–Sezgin (Minkowski)4×S2 ground state among all non-singular solutions with a four-dimensional Poincaré, de Sitter or anti-de Sitter symmetry. We construct the most general solutions with an axial symmetry in the two-dimensional internal space, and show that included amongst these is a family that is non-singular away from a conical defect at one pole of a distorted 2-sphere. These solutions admit the interpretation of 3-branes with negative tension.\n",
      "\n",
      "\n",
      "ACTUAL KEYWORDS:\n",
      " non-singular solutions with a four-dimensional poincaré, de sitter or anti-de sitter symmetry, axial symmetry in the two-dimensional internal space,, 3-branes with negative tension\n",
      "\n",
      "EXTRACTED:\n",
      " 4 × s2 ground state, supersymmetric salam – sezgin, dimensional internal space, de sitter symmetry, de sitter, dimensional poincaré, axial symmetry, solutions admit, negative tension, general solutions\n",
      "\n",
      "PRECISION: 0.0\n",
      "RECALL: 0.0\n",
      "F1: 0.0\n"
     ]
    }
   ],
   "source": [
    "idx = np.random.choice(df.index)\n",
    "extractor = rake\n",
    "num_kwds = 10\n",
    "\n",
    "text = df.loc[idx, \"abstract\"]\n",
    "actual = df.loc[idx, \"keywords\"].split(\"; \")\n",
    "actual = kwds_in_text(actual, text)\n",
    "actual = list(map(lambda s: s.lower(), actual))\n",
    "\n",
    "extracted = extractor(df.loc[idx, \"abstract\"], num_kwds=num_kwds)\n",
    "extracted = list(map(lambda s: s.lower(), extracted))\n",
    "\n",
    "all_kwds = set(actual).union(extracted)\n",
    "y_true = [kw in actual for kw in all_kwds]\n",
    "y_pred = [kw in extracted for kw in all_kwds]\n",
    "\n",
    "precision = precision_score(y_true, y_pred, average=\"binary\")\n",
    "recall = recall_score(y_true, y_pred, average=\"binary\")\n",
    "f1 = f1_score(y_true, y_pred, average=\"binary\")\n",
    "\n",
    "print(\"ABSTRACT:\\n\", df.loc[idx, \"abstract\"], end=\"\\n\\n\")\n",
    "print(\"ACTUAL KEYWORDS:\\n\", \", \".join(actual), end=\"\\n\\n\")\n",
    "print(\"EXTRACTED:\\n\", \", \".join(extracted), end=\"\\n\\n\")\n",
    "print(f\"PRECISION: {precision}\\nRECALL: {recall}\\nF1: {f1}\")"
   ]
  },
  {
   "cell_type": "code",
   "execution_count": 25,
   "metadata": {},
   "outputs": [],
   "source": [
    "def plot_ranking_stats(num_kwds, algorithm, metric):\n",
    "    y = scores[num_kwds][algorithm].sort_values(by=metric)[::-1][metric]\n",
    "    mean = scores[num_kwds][algorithm][metric].mean()\n",
    "\n",
    "    fig, ax = plt.subplots(figsize=(16,9))\n",
    "    ax.plot(range(y.values.shape[0]), y.values)\n",
    "    ax.axhline(mean, color=\"red\")\n",
    "    ax.set_xlabel(\"rank\")\n",
    "    ax.set_ylabel(\"score\")\n",
    "    ax.set_title(f\"{metric}@{num_kwds} Keywords using {algorithm}\")\n",
    "    plt.show()"
   ]
  },
  {
   "cell_type": "code",
   "execution_count": 26,
   "metadata": {},
   "outputs": [
    {
     "data": {
      "image/png": "[encoded data removed]",
      "text/plain": [
       "<Figure size 1152x648 with 1 Axes>"
      ]
     },
     "metadata": {},
     "output_type": "display_data"
    }
   ],
   "source": [
    "plot_ranking_stats(5, \"tfidfed_rake\", \"f1\")"
   ]
  },
  {
   "cell_type": "code",
   "execution_count": 27,
   "metadata": {},
   "outputs": [
    {
     "data": {
      "image/png": "[encoded data removed]",
      "text/plain": [
       "<Figure size 1152x648 with 1 Axes>"
      ]
     },
     "metadata": {},
     "output_type": "display_data"
    }
   ],
   "source": [
    "plot_ranking_stats(5, \"rake\", \"f1\")"
   ]
  },
  {
   "cell_type": "code",
   "execution_count": null,
   "metadata": {},
   "outputs": [],
   "source": []
  }
 ],
 "metadata": {
  "kernelspec": {
   "display_name": "Python 3",
   "language": "python",
   "name": "python3"
  },
  "language_info": {
   "codemirror_mode": {
    "name": "ipython",
    "version": 3
   },
   "file_extension": ".py",
   "mimetype": "text/x-python",
   "name": "python",
   "nbconvert_exporter": "python",
   "pygments_lexer": "ipython3",
   "version": "3.6.5"
  }
 },
 "nbformat": 4,
 "nbformat_minor": 2
}
