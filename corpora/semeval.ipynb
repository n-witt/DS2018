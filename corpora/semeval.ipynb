{
 "cells": [
  {
   "cell_type": "code",
   "execution_count": 71,
   "metadata": {
    "collapsed": true
   },
   "outputs": [],
   "source": [
    "import pandas as pd\n",
    "import os\n",
    "from os.path import join\n",
    "import io\n",
    "\n",
    "CORPUS_DIR = \"semEval/data\"\n",
    "\n",
    "def convert_keywords(text):\n",
    "    kwds = [kw.split(\"\\t\")[-1] for kw in text.split(\"\\n\") if \"Process\" not in kw]\n",
    "    kwds = [kw for kw in kwds if kw != \"\"]\n",
    "    return \"; \".join(kwds)\n",
    "\n",
    "def load():\n",
    "    df = pd.DataFrame()\n",
    "    for base_dir, dirs, files in os.walk(CORPUS_DIR):\n",
    "        for file in files:\n",
    "            with io.open(join(base_dir, file), encoding=\"utf8\") as fh:\n",
    "                idx, kind = file.split('.')\n",
    "                text = fh.read()\n",
    "                df.loc[idx, kind] = text\n",
    "    df.rename(columns={\"txt\": \"abstract\", \"ann\": \"keywords\"}, inplace=True)\n",
    "    df[\"keywords\"] = df[\"keywords\"].apply(convert_keywords)\n",
    "    return df"
   ]
  }
 ],
 "metadata": {
  "kernelspec": {
   "display_name": "Python 3",
   "language": "python",
   "name": "python3"
  },
  "language_info": {
   "codemirror_mode": {
    "name": "ipython",
    "version": 3
   },
   "file_extension": ".py",
   "mimetype": "text/x-python",
   "name": "python",
   "nbconvert_exporter": "python",
   "pygments_lexer": "ipython3",
   "version": "3.6.2"
  }
 },
 "nbformat": 4,
 "nbformat_minor": 2
}
