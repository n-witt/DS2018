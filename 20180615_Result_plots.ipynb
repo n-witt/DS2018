{
 "cells": [
  {
   "cell_type": "markdown",
   "metadata": {},
   "source": [
    "# Load previous results"
   ]
  },
  {
   "cell_type": "code",
   "execution_count": null,
   "metadata": {},
   "outputs": [],
   "source": [
    "import pickle\n",
    "with open(\"results.pkl\", \"rb\") as fh:\n",
    "    final_results = pickle.load(fh)\n",
    "\n",
    "kw_threshholds = range(1, 21, 1)"
   ]
  },
  {
   "cell_type": "code",
   "execution_count": null,
   "metadata": {},
   "outputs": [],
   "source": [
    "with open(\"results.pkl\", \"wb\") as fh:\n",
    "    pickle.dump(final_results, fh)"
   ]
  },
  {
   "cell_type": "code",
   "execution_count": null,
   "metadata": {},
   "outputs": [],
   "source": [
    "from collections import namedtuple\n",
    "\n",
    "def get_data(algorithm, corpus):\n",
    "    Retrieval_scores = namedtuple(\"Retrieval_scores\", \"p r f a\".split())\n",
    "    scores = final_results[corpus]\n",
    "    \n",
    "    precision = [scores[i][algorithm][\"precision\"].mean() for i in kw_threshholds]\n",
    "    recall = [scores[i][algorithm][\"recall\"].mean() for i in kw_threshholds]\n",
    "    f1 = [scores[i][algorithm][\"f1\"].mean() for i in kw_threshholds]\n",
    "    return Retrieval_scores(precision, recall, f1, algorithm)\n",
    "\n",
    "corpus = \"semeval\"\n",
    "X = get_data(\"tfidf\", corpus)\n",
    "Y = get_data(\"tfidfed_textrank\", corpus)"
   ]
  },
  {
   "cell_type": "markdown",
   "metadata": {},
   "source": [
    "### Relative enhancement"
   ]
  },
  {
   "cell_type": "code",
   "execution_count": null,
   "metadata": {},
   "outputs": [],
   "source": [
    "def publication_name(n):\n",
    "    if n == \"tfidfed_rake\":\n",
    "        return \"$Rake_s$\"\n",
    "    elif n == \"rake\":\n",
    "        return \"$Rake$\"\n",
    "    elif n == \"tfidfed_textrank\":\n",
    "        return \"$Textrank_s$\"\n",
    "    elif n == \"textrank\":\n",
    "        return \"$Textrank$\"\n",
    "    elif n == \"tfidf\":\n",
    "        return \"$tf-idf$\"\n",
    "    elif n == \"frankenrake\":\n",
    "        return \"$Ensemble$\"\n",
    "    else:\n",
    "        raise Exception(f\"No proper name substitution available for {n}\")"
   ]
  },
  {
   "cell_type": "code",
   "execution_count": null,
   "metadata": {},
   "outputs": [],
   "source": [
    "import seaborn as sns\n",
    "import matplotlib.pyplot as plt\n",
    "from matplotlib.ticker import FormatStrFormatter\n",
    "\n",
    "plt.rcParams[\"font.family\"] = 'serif'\n",
    "\n",
    "colors = sns.color_palette(\"Set1\", 6)\n",
    "fig, ax = plt.subplots(figsize=(8, 6))\n",
    "\n",
    "ax.plot(kw_threshholds, X.p, ':v', c=colors[0], label=f\"$\\\\pi$ {publication_name(X.a)}\")\n",
    "ax.plot(kw_threshholds, X.r, ':D', c=colors[1], label=f\"$\\\\rho$ {publication_name(X.a)}\")\n",
    "ax.plot(kw_threshholds, X.f, ':d', c=colors[2], label=f\"F1 {publication_name(X.a)}\")\n",
    "\n",
    "ax.plot(kw_threshholds, Y.p, '-v', c=colors[0], alpha=.4, label=f\"$\\pi$ {publication_name(Y.a)}\")\n",
    "ax.plot(kw_threshholds, Y.r, '-D', c=colors[1], alpha=.4, label=f\"$\\\\rho$ {publication_name(Y.a)}\")\n",
    "ax.plot(kw_threshholds, Y.f, '-d', c=colors[2], alpha=.4, label=f\"F1 {publication_name(Y.a)}\")\n",
    "\n",
    "ax.set_ylim(0.0, .6)\n",
    "ax.set_xlabel('Number of Keyphrases', fontsize=16)\n",
    "ax.set_ylabel('Score', fontsize=16)\n",
    "\n",
    "ax.legend(fontsize=14, frameon=False)\n",
    "ax.tick_params(axis='x', labelsize=14)\n",
    "ax.tick_params(axis='y', labelsize=14)\n",
    "\n",
    "ax.yaxis.set_major_formatter(FormatStrFormatter('%.1f'))\n",
    "#ax.set_facecolor(\"white\")\n",
    "\n",
    "for spine in plt.gca().spines.values():\n",
    "    spine.set_visible(True)\n",
    "\n",
    "#plt.title(f\"{corpus_name} without Fuzzy Matching + KW Removal\", fontsize=18)\n",
    "\n",
    "plt.xticks(kw_threshholds)\n",
    "fig.savefig(f\"result_plots/{corpus}/{publication_name(X.a)}_vs_{publication_name(Y.a)}.pdf\", \n",
    "    format=\"pdf\", transparent=True, bbox_inches=\"tight\")\n",
    "plt.show()"
   ]
  },
  {
   "cell_type": "markdown",
   "metadata": {},
   "source": [
    "# Plotting"
   ]
  },
  {
   "cell_type": "code",
   "execution_count": null,
   "metadata": {},
   "outputs": [],
   "source": [
    "def plot_ranking_stats(num_kwds, metric, corpus, algorithm_a, algorithm_b, algorithm_c, algorithm_d):\n",
    "    scores = final_results[corpus]\n",
    "    \n",
    "    y_a = scores[num_kwds][algorithm_a].sort_values(by=metric)[::-1][metric]\n",
    "    mean_a = scores[num_kwds][algorithm_a][metric].mean()\n",
    "\n",
    "    y_b = scores[num_kwds][algorithm_b].sort_values(by=metric)[::-1][metric]\n",
    "    mean_b = scores[num_kwds][algorithm_b][metric].mean()\n",
    "    \n",
    "    y_c = scores[num_kwds][algorithm_c].sort_values(by=metric)[::-1][metric]\n",
    "    mean_c = scores[num_kwds][algorithm_c][metric].mean()\n",
    "    \n",
    "    y_d = scores[num_kwds][algorithm_d].sort_values(by=metric)[::-1][metric]\n",
    "    mean_d = scores[num_kwds][algorithm_d][metric].mean()    \n",
    "    \n",
    "    fig, ax = plt.subplots(figsize=(8, 6))\n",
    "    ax.plot(range(y_a.values.shape[0]), y_a.values, label=f\"{publication_name(algorithm_a)}\")\n",
    "    #ax.axhline(mean_a, color=\"red\")\n",
    "    \n",
    "    ax.plot(range(y_b.values.shape[0]), y_b.values, label=f\"{publication_name(algorithm_b)}\")\n",
    "    #ax.axhline(mean_b, color=\"red\")\n",
    "    \n",
    "    ax.plot(range(y_c.values.shape[0]), y_c.values, label=f\"{publication_name(algorithm_c)}\")\n",
    "    #ax.axhline(mean_b, color=\"red\")\n",
    "\n",
    "    ax.plot(range(y_d.values.shape[0]), y_d.values, label=f\"{publication_name(algorithm_d)}\")\n",
    "    #ax.axhline(mean_b, color=\"red\")\n",
    "\n",
    "    \n",
    "    ax.set_xlabel(\"Rank\", fontsize=16)\n",
    "    ax.set_ylabel(\"Score\", fontsize=16)\n",
    "    ax.set_ylim(-0.02, 1)\n",
    "    \n",
    "    ax.legend(fontsize=14, frameon=False)\n",
    "    ax.tick_params(axis='x', labelsize=14)\n",
    "    ax.tick_params(axis='y', labelsize=14)\n",
    "\n",
    "    fig.savefig(f\"result_plots/{corpus}/rank_plots_{metric}@{num_kwds}_Keywords.pdf\", \n",
    "    format=\"pdf\", transparent=True, bbox_inches=\"tight\")\n",
    "    plt.show()"
   ]
  },
  {
   "cell_type": "code",
   "execution_count": null,
   "metadata": {},
   "outputs": [],
   "source": [
    "plot_ranking_stats(5, \"f1\", \"semeval\", \"rake\", \"tfidfed_rake\", \"textrank\", \"tfidfed_textrank\")"
   ]
  }
 ],
 "metadata": {
  "kernelspec": {
   "display_name": "Python 3",
   "language": "python",
   "name": "python3"
  },
  "language_info": {
   "codemirror_mode": {
    "name": "ipython",
    "version": 3
   },
   "file_extension": ".py",
   "mimetype": "text/x-python",
   "name": "python",
   "nbconvert_exporter": "python",
   "pygments_lexer": "ipython3",
   "version": "3.6.5"
  }
 },
 "nbformat": 4,
 "nbformat_minor": 2
}
